{
 "cells": [
  {
   "cell_type": "markdown",
   "source": [
    "# Importa módulos necessários\n",
    "## O módulo `abc` é utilizado para definir classes abstratas. \"ABC\" é a sigla para \"Abstract Base Classes\"."
   ],
   "metadata": {
    "collapsed": false
   }
  },
  {
   "cell_type": "code",
   "execution_count": 1,
   "outputs": [],
   "source": [
    "from abc import ABC"
   ],
   "metadata": {
    "collapsed": false,
    "ExecuteTime": {
     "end_time": "2024-03-30T23:23:17.879254Z",
     "start_time": "2024-03-30T23:23:17.776372900Z"
    }
   }
  },
  {
   "cell_type": "markdown",
   "source": [
    "## Importa os módulos do QT para desenhar gráficos"
   ],
   "metadata": {
    "collapsed": false
   }
  },
  {
   "cell_type": "code",
   "execution_count": 2,
   "outputs": [],
   "source": [
    "from PySide6.QtCore import Qt, QPointF\n",
    "from PySide6.QtGui import QPolygonF\n",
    "from PySide6.QtWidgets import QApplication, QGraphicsView, QGraphicsScene, QGraphicsEllipseItem, QGraphicsLineItem, QGraphicsPolygonItem"
   ],
   "metadata": {
    "collapsed": false,
    "ExecuteTime": {
     "end_time": "2024-03-30T23:23:18.101734Z",
     "start_time": "2024-03-30T23:23:17.793386400Z"
    }
   }
  },
  {
   "cell_type": "markdown",
   "source": [
    "## O módulo `xml.etree.ElementTree` é utilizado para manipular arquivos XML e é usado como parser"
   ],
   "metadata": {
    "collapsed": false
   }
  },
  {
   "cell_type": "code",
   "execution_count": 3,
   "outputs": [],
   "source": [
    "import xml.etree.ElementTree as ElementTree"
   ],
   "metadata": {
    "collapsed": false,
    "ExecuteTime": {
     "end_time": "2024-03-30T23:23:18.181266Z",
     "start_time": "2024-03-30T23:23:18.103728900Z"
    }
   }
  },
  {
   "cell_type": "markdown",
   "source": [
    "## O módulo sys é usado para passar argumentos de linha de comando para a instância QApplication e para garantir uma saída limpa."
   ],
   "metadata": {
    "collapsed": false
   }
  },
  {
   "cell_type": "code",
   "execution_count": 4,
   "outputs": [],
   "source": [
    "import sys"
   ],
   "metadata": {
    "collapsed": false,
    "ExecuteTime": {
     "end_time": "2024-03-30T23:23:18.195775400Z",
     "start_time": "2024-03-30T23:23:18.181266Z"
    }
   }
  },
  {
   "cell_type": "markdown",
   "source": [
    "# Definição das classes e métodos"
   ],
   "metadata": {
    "collapsed": false
   }
  },
  {
   "cell_type": "markdown",
   "source": [
    "## Define a classe \"Ponto\", que representa um ponto em um epaço bidimensional com coordenadas x e y. Inclui métodos para comparar pontos e imprimir suas coordenadas."
   ],
   "metadata": {
    "collapsed": false
   }
  },
  {
   "cell_type": "code",
   "execution_count": 5,
   "outputs": [],
   "source": [
    "class Ponto:\n",
    "    def __init__(self, x: float, y: float) -> None:\n",
    "        self._x = float(x)\n",
    "        self._y = float(y)\n",
    "\n",
    "    @property\n",
    "    def x(self) -> float:\n",
    "        return self._x\n",
    "\n",
    "    @property\n",
    "    def y(self) -> float:\n",
    "        return self._y\n",
    "\n",
    "    def __eq__(self, __value: object) -> bool:\n",
    "        return self.x == __value.x and self.y == __value.y\n",
    "\n",
    "    def print(self) -> None:\n",
    "        print(\"x: \" + str(self._x), \"y: \" + str(self._y), sep=\", \")"
   ],
   "metadata": {
    "collapsed": false,
    "ExecuteTime": {
     "end_time": "2024-03-30T23:23:18.228570200Z",
     "start_time": "2024-03-30T23:23:18.200775600Z"
    }
   }
  },
  {
   "cell_type": "markdown",
   "source": [
    "## Define a classe \"Retangulo\", que representa um retângulo com vértices em seus cantos. Inclui métodos para calcular a largura e a altura do retângulo e para imprimir suas coordenadas."
   ],
   "metadata": {
    "collapsed": false
   }
  },
  {
   "cell_type": "code",
   "execution_count": 6,
   "outputs": [],
   "source": [
    "class Retangulo(ABC):\n",
    "    def __init__(self, p_minimo: Ponto, p_maximo: Ponto) -> None:\n",
    "        if not all(isinstance(p, Ponto) for p in (p_minimo, p_maximo)):\n",
    "            raise TypeError(\"As coordenadas devem ser um Ponto\")\n",
    "        self._p_minimo = p_minimo\n",
    "        self._p_maximo = p_maximo\n",
    "\n",
    "    @property\n",
    "    def p_minimo(self) -> Ponto:\n",
    "        return self._p_minimo\n",
    "\n",
    "    @property\n",
    "    def p_maximo(self) -> Ponto:\n",
    "        return self._p_maximo\n",
    "\n",
    "    def comprimento(self) -> float:\n",
    "        return self._p_maximo.x - self._p_minimo.x\n",
    "\n",
    "    def altura(self) -> float:\n",
    "        return self._p_maximo.y - self._p_minimo.y\n",
    "\n",
    "    def print(self) -> None:\n",
    "        print(\"Ponto mínimo:\", end=\" \")\n",
    "        self._p_minimo.print()\n",
    "        print(\"Ponto máximo:\", end=\" \")\n",
    "        self._p_maximo.print()\n",
    "        print(\"Dimensão:\", end=\" \")\n",
    "        print(self.comprimento(), self.altura(), sep=\"x\")"
   ],
   "metadata": {
    "collapsed": false,
    "ExecuteTime": {
     "end_time": "2024-03-30T23:23:18.228570200Z",
     "start_time": "2024-03-30T23:23:18.212053700Z"
    }
   }
  },
  {
   "cell_type": "markdown",
   "source": [
    "## Define as classes \"Window\" e \"Viewport\", que herdam de \"Retangulo\". A classe \"Window\" representa a janela de visualização e a classe \"Viewport\" representa a área de visualização."
   ],
   "metadata": {
    "collapsed": false
   }
  },
  {
   "cell_type": "code",
   "execution_count": 7,
   "outputs": [],
   "source": [
    "class Window(Retangulo):\n",
    "    def print(self) -> None:\n",
    "        print(\"---- Window ----\")\n",
    "        super().print()\n",
    "\n",
    "class Viewport(Retangulo):\n",
    "    def print(self) -> None:\n",
    "        print(\"---- Viewport ----\")\n",
    "        super().print()"
   ],
   "metadata": {
    "collapsed": false,
    "ExecuteTime": {
     "end_time": "2024-03-30T23:23:18.247571100Z",
     "start_time": "2024-03-30T23:23:18.228570200Z"
    }
   }
  },
  {
   "cell_type": "markdown",
   "source": [
    "## Define a classe \"Reta\", que representa uma reta com dois pontos. Inclui métodos para calcular o tamanho da reta e para imprimir suas coordenadas."
   ],
   "metadata": {
    "collapsed": false
   }
  },
  {
   "cell_type": "code",
   "execution_count": 8,
   "outputs": [],
   "source": [
    "class Reta:\n",
    "    def __init__(self, a: Ponto, b: Ponto) -> None:\n",
    "        if not all(isinstance(p, Ponto) for p in (a, b)):\n",
    "            raise TypeError(\"As coordenadas devem ser um Ponto\")\n",
    "        if a == b:\n",
    "            raise ValueError(\"Pontos da reta não podem coincidir\")\n",
    "        self._a = a\n",
    "        self._b = b\n",
    "\n",
    "    @property\n",
    "    def a(self) -> Ponto:\n",
    "        return self._a\n",
    "\n",
    "    @property\n",
    "    def b(self) -> Ponto:\n",
    "        return self._b\n",
    "\n",
    "    def tamanho(self) -> float:\n",
    "        dx = self._b.x - self._a.x\n",
    "        dy = self._b.y - self._a.y\n",
    "        return (dx**2 + dy**2)**0.5\n",
    "\n",
    "    def print(self) -> None:\n",
    "        print(\"---- Reta ----\")\n",
    "        self._a.print()\n",
    "        self._b.print()\n",
    "        print(\"Tamanho: \", self.tamanho())"
   ],
   "metadata": {
    "collapsed": false,
    "ExecuteTime": {
     "end_time": "2024-03-30T23:23:18.278593400Z",
     "start_time": "2024-03-30T23:23:18.246567800Z"
    }
   }
  },
  {
   "cell_type": "markdown",
   "source": [
    "## Define a classe \"Poligono\", que representa um polígono com uma lista de pontos. Inclui métodos para imprimir as coordenadas do polígono."
   ],
   "metadata": {
    "collapsed": false
   }
  },
  {
   "cell_type": "code",
   "execution_count": 9,
   "outputs": [],
   "source": [
    "class Poligono:\n",
    "    def __init__(self, *pontos: Ponto) -> None:\n",
    "        if not all(isinstance(p, Ponto) for p in pontos):\n",
    "            raise TypeError(\"As coordenadas devem ser um Ponto\")\n",
    "        if len(pontos) <= 2:\n",
    "            raise ValueError(\"Quantidade de pontos do poligono deve ser maior que 2\")\n",
    "        self._pontos = list(pontos)\n",
    "\n",
    "    @property\n",
    "    def pontos(self) -> list[Ponto]:\n",
    "        return self._pontos\n",
    "\n",
    "    def print(self) -> None:\n",
    "        print(\"---- Poligono ----\")\n",
    "        for ponto in self._pontos:\n",
    "            ponto.print()"
   ],
   "metadata": {
    "collapsed": false,
    "ExecuteTime": {
     "end_time": "2024-03-30T23:23:18.279594300Z",
     "start_time": "2024-03-30T23:23:18.260079700Z"
    }
   }
  },
  {
   "cell_type": "markdown",
   "source": [
    "## Define a classe \"ViewportWindow\", que herda de \"QGraphicsView\". A classe é utilizada para criar uma janela de visualização com uma cena gráfica, onde são adicionados pontos, retas e polígonos."
   ],
   "metadata": {
    "collapsed": false
   }
  },
  {
   "cell_type": "code",
   "execution_count": 10,
   "outputs": [],
   "source": [
    "class ViewportWindow(QGraphicsView):\n",
    "    def __init__(self, viewport, pontos, retas, poligonos):\n",
    "        super().__init__()\n",
    "        self.setWindowTitle(\"Viewport\")\n",
    "        self.setBackgroundBrush(Qt.white)\n",
    "\n",
    "        # Criar a dimensão da viewport\n",
    "        self.setSceneRect(viewport.p_minimo.x, viewport.p_minimo.y, viewport.p_maximo.x, viewport.p_maximo.y)\n",
    "\n",
    "        # Criar uma cena gráfica\n",
    "        scene = QGraphicsScene()\n",
    "        self.setScene(scene)\n",
    "\n",
    "        # Adicionar pontos\n",
    "        for ponto in pontos:\n",
    "            ponto_vp = QGraphicsEllipseItem(ponto.x, ponto.y, 1, 1)\n",
    "            scene.addItem(ponto_vp)\n",
    "\n",
    "        # Adicionar retas\n",
    "        for reta in retas:\n",
    "            reta_vp = QGraphicsLineItem(reta.a.x, reta.a.y, reta.b.x, reta.b.y)\n",
    "            scene.addItem(reta_vp)\n",
    "\n",
    "        # Adicionar polígonos\n",
    "        for poligono in poligonos:\n",
    "            poligono_vp = QGraphicsPolygonItem()\n",
    "            poligono_vp.setPolygon(QPolygonF([QPointF(ponto.x, ponto.y) for ponto in poligono.pontos]))\n",
    "            scene.addItem(poligono_vp)"
   ],
   "metadata": {
    "collapsed": false,
    "ExecuteTime": {
     "end_time": "2024-03-30T23:23:18.289452700Z",
     "start_time": "2024-03-30T23:23:18.276592600Z"
    }
   }
  },
  {
   "cell_type": "markdown",
   "source": [
    "## Define a função \"transformar_pontos_viewport\", que recebe uma janela, uma viewport e uma lista de pontos e retorna uma lista de pontos transformados para a viewport."
   ],
   "metadata": {
    "collapsed": false
   }
  },
  {
   "cell_type": "code",
   "execution_count": 11,
   "outputs": [],
   "source": [
    "def transformar_pontos_viewport(window: Window, viewport: Viewport, pontos: list[Ponto]) -> list[Ponto]:\n",
    "    pontos_vp = []\n",
    "    for ponto in pontos:\n",
    "        x_vp = ((ponto.x - window.p_minimo.x) / window.comprimento()) * viewport.comprimento()\n",
    "        y_vp = (1 - ((ponto.y - window.p_minimo.y) / window.altura())) * viewport.altura()\n",
    "        pontos_vp.append(Ponto(x_vp, y_vp))\n",
    "    return pontos_vp"
   ],
   "metadata": {
    "collapsed": false,
    "ExecuteTime": {
     "end_time": "2024-03-30T23:23:18.324312300Z",
     "start_time": "2024-03-30T23:23:18.290457100Z"
    }
   }
  },
  {
   "cell_type": "markdown",
   "source": [
    "# Main"
   ],
   "metadata": {
    "collapsed": false
   }
  },
  {
   "cell_type": "markdown",
   "source": [
    "## Lê o arquivo XML e armazena os dados em uma variável"
   ],
   "metadata": {
    "collapsed": false
   }
  },
  {
   "cell_type": "code",
   "execution_count": 12,
   "outputs": [],
   "source": [
    "dados = ElementTree.parse('docs/entrada.xml').getroot()"
   ],
   "metadata": {
    "collapsed": false,
    "ExecuteTime": {
     "end_time": "2024-03-30T23:23:18.325310700Z",
     "start_time": "2024-03-30T23:23:18.305456700Z"
    }
   }
  },
  {
   "cell_type": "markdown",
   "source": [
    "## Lê os pontos da window arquivo XML e constroi a window"
   ],
   "metadata": {
    "collapsed": false
   }
  },
  {
   "cell_type": "code",
   "execution_count": 13,
   "outputs": [
    {
     "name": "stdout",
     "output_type": "stream",
     "text": [
      "---- Window ----\n",
      "Ponto mínimo: x: 0.0, y: 0.0\n",
      "Ponto máximo: x: 10.0, y: 10.0\n",
      "Dimensão: 10.0x10.0\n"
     ]
    }
   ],
   "source": [
    "w_min = Ponto(*dados.find(\"window/wmin\").attrib.values())\n",
    "w_max = Ponto(*dados.find(\"window/wmax\").attrib.values())\n",
    "window = Window(w_min, w_max)\n",
    "window.print()"
   ],
   "metadata": {
    "collapsed": false,
    "ExecuteTime": {
     "end_time": "2024-03-30T23:23:18.336317300Z",
     "start_time": "2024-03-30T23:23:18.320770500Z"
    }
   }
  },
  {
   "cell_type": "markdown",
   "source": [
    "## Lê os pontos da viewport arquivo XML e constroi a viewport"
   ],
   "metadata": {
    "collapsed": false
   }
  },
  {
   "cell_type": "code",
   "execution_count": 14,
   "outputs": [
    {
     "name": "stdout",
     "output_type": "stream",
     "text": [
      "---- Viewport ----\n",
      "Ponto mínimo: x: 10.0, y: 10.0\n",
      "Ponto máximo: x: 630.0, y: 470.0\n",
      "Dimensão: 620.0x460.0\n"
     ]
    }
   ],
   "source": [
    "vp_min = Ponto(*dados.find(\"viewport/vpmin\").attrib.values())\n",
    "vp_max = Ponto(*dados.find(\"viewport/vpmax\").attrib.values())\n",
    "viewport = Viewport(vp_min, vp_max)\n",
    "viewport.print()"
   ],
   "metadata": {
    "collapsed": false,
    "ExecuteTime": {
     "end_time": "2024-03-30T23:23:18.458945700Z",
     "start_time": "2024-03-30T23:23:18.339310400Z"
    }
   }
  },
  {
   "cell_type": "markdown",
   "source": [
    "## Lê os pontos do arquivo XML, constrói os pontos e os imprime"
   ],
   "metadata": {
    "collapsed": false
   }
  },
  {
   "cell_type": "code",
   "execution_count": 15,
   "outputs": [
    {
     "name": "stdout",
     "output_type": "stream",
     "text": [
      "x: 0.0, y: 2.0\n",
      "x: 2.0, y: 4.0\n",
      "x: 4.0, y: 6.0\n"
     ]
    }
   ],
   "source": [
    "pontos = [Ponto(*ponto.attrib.values()) for ponto in dados.findall(\"ponto\")]\n",
    "for ponto in pontos:\n",
    "    ponto.print()"
   ],
   "metadata": {
    "collapsed": false,
    "ExecuteTime": {
     "end_time": "2024-03-30T23:23:18.471415200Z",
     "start_time": "2024-03-30T23:23:18.352824400Z"
    }
   }
  },
  {
   "cell_type": "markdown",
   "source": [
    "## Lê os pontos das retas do arquivo XML, constroi as retas e as imprime"
   ],
   "metadata": {
    "collapsed": false
   }
  },
  {
   "cell_type": "code",
   "execution_count": 16,
   "outputs": [
    {
     "name": "stdout",
     "output_type": "stream",
     "text": [
      "---- Reta ----\n",
      "x: 2.0, y: 2.0\n",
      "x: 4.0, y: 4.0\n",
      "Tamanho:  2.8284271247461903\n",
      "---- Reta ----\n",
      "x: 4.0, y: 4.0\n",
      "x: 2.0, y: 6.0\n",
      "Tamanho:  2.8284271247461903\n"
     ]
    }
   ],
   "source": [
    "retas = [\n",
    "    Reta(*(Ponto(*ponto.attrib.values()) for ponto in reta))\n",
    "    for reta in dados.findall(\"reta\")\n",
    "]\n",
    "for reta in retas:\n",
    "    reta.print()"
   ],
   "metadata": {
    "collapsed": false,
    "ExecuteTime": {
     "end_time": "2024-03-30T23:23:18.471415200Z",
     "start_time": "2024-03-30T23:23:18.368340100Z"
    }
   }
  },
  {
   "cell_type": "markdown",
   "source": [
    "## Lê os pontos dos polígonos do arquivo XML, constroi os polígonos e imprime"
   ],
   "metadata": {
    "collapsed": false
   }
  },
  {
   "cell_type": "code",
   "execution_count": 17,
   "outputs": [
    {
     "name": "stdout",
     "output_type": "stream",
     "text": [
      "---- Poligono ----\n",
      "x: 1.0, y: 1.0\n",
      "x: 1.0, y: 2.0\n",
      "x: 2.0, y: 2.0\n",
      "x: 2.0, y: 1.0\n"
     ]
    }
   ],
   "source": [
    "poligonos = [\n",
    "    Poligono(*(Ponto(*ponto.attrib.values()) for ponto in poligono))\n",
    "    for poligono in dados.findall(\"poligono\")\n",
    "]\n",
    "for poligono in poligonos:\n",
    "    poligono.print()"
   ],
   "metadata": {
    "collapsed": false,
    "ExecuteTime": {
     "end_time": "2024-03-30T23:23:18.472417900Z",
     "start_time": "2024-03-30T23:23:18.382856800Z"
    }
   }
  },
  {
   "cell_type": "markdown",
   "source": [
    "## Limpa os dados da estrutura antiga, que já foi processada."
   ],
   "metadata": {
    "collapsed": false
   }
  },
  {
   "cell_type": "code",
   "execution_count": 18,
   "outputs": [],
   "source": [
    "dados.clear()"
   ],
   "metadata": {
    "collapsed": false,
    "ExecuteTime": {
     "end_time": "2024-03-30T23:23:18.472417900Z",
     "start_time": "2024-03-30T23:23:18.399857700Z"
    }
   }
  },
  {
   "cell_type": "markdown",
   "source": [
    "## Transforma os pontos para a viewport e imprime as coordenadas dos pontos transformados"
   ],
   "metadata": {
    "collapsed": false
   }
  },
  {
   "cell_type": "code",
   "execution_count": 19,
   "outputs": [
    {
     "name": "stdout",
     "output_type": "stream",
     "text": [
      "x: 0.0, y: 368.0\n",
      "x: 124.0, y: 276.0\n",
      "x: 248.0, y: 184.0\n"
     ]
    }
   ],
   "source": [
    "pontos = transformar_pontos_viewport(window, viewport, pontos)\n",
    "for ponto in pontos:\n",
    "    ponto_elem = ElementTree.SubElement(dados, 'ponto')\n",
    "    ponto_elem.set(\"x\", str(ponto.x))\n",
    "    ponto_elem.set(\"y\", str(ponto.y))\n",
    "    ponto.print()"
   ],
   "metadata": {
    "collapsed": false,
    "ExecuteTime": {
     "end_time": "2024-03-30T23:23:18.473412900Z",
     "start_time": "2024-03-30T23:23:18.416372200Z"
    }
   }
  },
  {
   "cell_type": "markdown",
   "source": [
    "## Transforma os pontos das retas para a viewport e imprime as coordenadas dos pontos transformados"
   ],
   "metadata": {
    "collapsed": false
   }
  },
  {
   "cell_type": "code",
   "execution_count": 20,
   "outputs": [
    {
     "name": "stdout",
     "output_type": "stream",
     "text": [
      "---- Reta ----\n",
      "x: 124.0, y: 368.0\n",
      "x: 248.0, y: 276.0\n",
      "Tamanho:  154.40207252495026\n",
      "---- Reta ----\n",
      "x: 248.0, y: 276.0\n",
      "x: 124.0, y: 184.0\n",
      "Tamanho:  154.40207252495026\n"
     ]
    }
   ],
   "source": [
    "retas = [Reta(*transformar_pontos_viewport(window, viewport, [reta.a, reta.b])) for reta in retas]\n",
    "for reta in retas:\n",
    "    reta_elem = ElementTree.SubElement(dados, \"reta\")\n",
    "    for ponto in [reta.a, reta.b]:\n",
    "        ponto_elem = ElementTree.SubElement(reta_elem, \"ponto\")\n",
    "        ponto_elem.set(\"x\", str(ponto.x))\n",
    "        ponto_elem.set(\"y\", str(ponto.x))\n",
    "    reta.print()"
   ],
   "metadata": {
    "collapsed": false,
    "ExecuteTime": {
     "end_time": "2024-03-30T23:23:18.473412900Z",
     "start_time": "2024-03-30T23:23:18.432374100Z"
    }
   }
  },
  {
   "cell_type": "markdown",
   "source": [
    "## Transforma os pontos dos polígonos para a viewport e imprime as coordenadas dos pontos transformados"
   ],
   "metadata": {
    "collapsed": false
   }
  },
  {
   "cell_type": "code",
   "execution_count": 21,
   "outputs": [
    {
     "name": "stdout",
     "output_type": "stream",
     "text": [
      "---- Poligono ----\n",
      "x: 62.0, y: 414.0\n",
      "x: 62.0, y: 368.0\n",
      "x: 124.0, y: 368.0\n",
      "x: 124.0, y: 414.0\n"
     ]
    }
   ],
   "source": [
    "poligonos = [Poligono(*transformar_pontos_viewport(window, viewport, poligono.pontos)) for poligono in poligonos]\n",
    "for poligono in poligonos:\n",
    "    poligono_elem = ElementTree.SubElement(dados, \"poligono\")\n",
    "    for ponto in poligono.pontos:\n",
    "        ponto_elem = ElementTree.SubElement(poligono_elem, \"ponto\")\n",
    "        ponto_elem.set(\"x\", str(ponto.x))\n",
    "        ponto_elem.set(\"y\", str(ponto.x))\n",
    "    poligono.print()"
   ],
   "metadata": {
    "collapsed": false,
    "ExecuteTime": {
     "end_time": "2024-03-30T23:23:18.474493600Z",
     "start_time": "2024-03-30T23:23:18.458945700Z"
    }
   }
  },
  {
   "cell_type": "markdown",
   "source": [
    "## Salva o arquivo de saída com a nova estrutura"
   ],
   "metadata": {
    "collapsed": false
   }
  },
  {
   "cell_type": "code",
   "execution_count": 22,
   "outputs": [],
   "source": [
    "xml = ElementTree.ElementTree(dados)\n",
    "ElementTree.indent(xml, space=\"\\t\", level=0)\n",
    "xml.write(\"docs/saida.xml\", xml_declaration=True, encoding=\"utf-8\")"
   ],
   "metadata": {
    "collapsed": false,
    "ExecuteTime": {
     "end_time": "2024-03-30T23:23:18.483416Z",
     "start_time": "2024-03-30T23:23:18.462887600Z"
    }
   }
  },
  {
   "cell_type": "markdown",
   "source": [
    "## Gera o viewport"
   ],
   "metadata": {
    "collapsed": false
   }
  },
  {
   "cell_type": "code",
   "execution_count": 23,
   "outputs": [
    {
     "ename": "SystemExit",
     "evalue": "0",
     "output_type": "error",
     "traceback": [
      "An exception has occurred, use %tb to see the full traceback.\n",
      "\u001B[1;31mSystemExit\u001B[0m\u001B[1;31m:\u001B[0m 0\n"
     ]
    },
    {
     "name": "stderr",
     "output_type": "stream",
     "text": [
      "C:\\Users\\Xande\\PycharmProjects\\tp1cg\\venv\\lib\\site-packages\\IPython\\core\\interactiveshell.py:3558: UserWarning: To exit: use 'exit', 'quit', or Ctrl-D.\n",
      "  warn(\"To exit: use 'exit', 'quit', or Ctrl-D.\", stacklevel=1)\n"
     ]
    }
   ],
   "source": [
    "app = QApplication(sys.argv)\n",
    "viewport_window = ViewportWindow(viewport, pontos, retas, poligonos)\n",
    "viewport_window.show()\n",
    "sys.exit(app.exec())"
   ],
   "metadata": {
    "collapsed": false,
    "ExecuteTime": {
     "end_time": "2024-03-30T23:24:19.616204600Z",
     "start_time": "2024-03-30T23:23:18.477415600Z"
    }
   }
  }
 ],
 "metadata": {
  "kernelspec": {
   "display_name": "Python 3",
   "language": "python",
   "name": "python3"
  },
  "language_info": {
   "codemirror_mode": {
    "name": "ipython",
    "version": 2
   },
   "file_extension": ".py",
   "mimetype": "text/x-python",
   "name": "python",
   "nbconvert_exporter": "python",
   "pygments_lexer": "ipython2",
   "version": "2.7.6"
  }
 },
 "nbformat": 4,
 "nbformat_minor": 0
}
